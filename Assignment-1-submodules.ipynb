{
 "cells": [
  {
   "cell_type": "markdown",
   "id": "3b370031",
   "metadata": {},
   "source": [
    "## Getting User Input "
   ]
  },
  {
   "cell_type": "code",
   "execution_count": 1,
   "id": "d224bfab",
   "metadata": {},
   "outputs": [
    {
     "name": "stdout",
     "output_type": "stream",
     "text": [
      "Enter the number you want to print \t23\n"
     ]
    }
   ],
   "source": [
    "number = input(\"Enter the number you want to print \\t\")"
   ]
  },
  {
   "cell_type": "markdown",
   "id": "f4fc1701",
   "metadata": {},
   "source": [
    "## String formatting in Python"
   ]
  },
  {
   "cell_type": "code",
   "execution_count": 2,
   "id": "2ae7f5b7",
   "metadata": {},
   "outputs": [
    {
     "name": "stdout",
     "output_type": "stream",
     "text": [
      "The number you have entered is 23\n"
     ]
    }
   ],
   "source": [
    "print(\"The number you have entered is {}\".format(number))"
   ]
  },
  {
   "cell_type": "code",
   "execution_count": 3,
   "id": "5af5a0bd",
   "metadata": {},
   "outputs": [
    {
     "name": "stdout",
     "output_type": "stream",
     "text": [
      "The number you've entered is 23\n"
     ]
    }
   ],
   "source": [
    "print(\"The number you've entered is %s\" %number)"
   ]
  },
  {
   "cell_type": "markdown",
   "id": "29b86628",
   "metadata": {},
   "source": [
    "## String Assignment and String Assignment Solutions"
   ]
  },
  {
   "cell_type": "code",
   "execution_count": 4,
   "id": "a0df1a68",
   "metadata": {},
   "outputs": [],
   "source": [
    "your_name = \"Aayush Dip Giri\""
   ]
  },
  {
   "cell_type": "code",
   "execution_count": 5,
   "id": "428389f9",
   "metadata": {},
   "outputs": [
    {
     "name": "stdout",
     "output_type": "stream",
     "text": [
      "Aayush Dip Giri\n"
     ]
    }
   ],
   "source": [
    "print(your_name)"
   ]
  },
  {
   "cell_type": "code",
   "execution_count": 6,
   "id": "6db45c37",
   "metadata": {},
   "outputs": [
    {
     "name": "stdout",
     "output_type": "stream",
     "text": [
      "AAYUSH DIP GIRI\n"
     ]
    }
   ],
   "source": [
    "print(your_name.upper())"
   ]
  },
  {
   "cell_type": "markdown",
   "id": "b4f1c198",
   "metadata": {},
   "source": [
    "## Lists in python"
   ]
  },
  {
   "cell_type": "code",
   "execution_count": 7,
   "id": "21b47ca9",
   "metadata": {},
   "outputs": [],
   "source": [
    "mylist = [1,2,3,4,5,6,7,8]"
   ]
  },
  {
   "cell_type": "code",
   "execution_count": 8,
   "id": "dd307cc5",
   "metadata": {},
   "outputs": [
    {
     "data": {
      "text/plain": [
       "[2, 3, 4]"
      ]
     },
     "execution_count": 8,
     "metadata": {},
     "output_type": "execute_result"
    }
   ],
   "source": [
    "mylist[1:4]"
   ]
  },
  {
   "cell_type": "code",
   "execution_count": 9,
   "id": "32fc18dd",
   "metadata": {},
   "outputs": [
    {
     "data": {
      "text/plain": [
       "[8, 7, 6, 5, 4, 3, 2, 1]"
      ]
     },
     "execution_count": 9,
     "metadata": {},
     "output_type": "execute_result"
    }
   ],
   "source": [
    "mylist[::-1]"
   ]
  },
  {
   "cell_type": "code",
   "execution_count": 10,
   "id": "c7db2c5a",
   "metadata": {},
   "outputs": [],
   "source": [
    "even_list = [x for x in mylist if x%2==0 ]"
   ]
  },
  {
   "cell_type": "code",
   "execution_count": 11,
   "id": "4a6dbcb7",
   "metadata": {},
   "outputs": [
    {
     "name": "stdout",
     "output_type": "stream",
     "text": [
      "[2, 4, 6, 8]\n"
     ]
    }
   ],
   "source": [
    "print(even_list)"
   ]
  },
  {
   "cell_type": "code",
   "execution_count": 12,
   "id": "4b6cff54",
   "metadata": {},
   "outputs": [],
   "source": [
    "mylist.append(3)"
   ]
  },
  {
   "cell_type": "code",
   "execution_count": 13,
   "id": "1a01cd85",
   "metadata": {},
   "outputs": [
    {
     "name": "stdout",
     "output_type": "stream",
     "text": [
      "[1, 2, 3, 4, 5, 6, 7, 8, 3]\n"
     ]
    }
   ],
   "source": [
    "print(mylist)"
   ]
  },
  {
   "cell_type": "code",
   "execution_count": 14,
   "id": "43abdb5c",
   "metadata": {},
   "outputs": [],
   "source": [
    "mylist.extend([2,3,4,5,5,6])"
   ]
  },
  {
   "cell_type": "code",
   "execution_count": 15,
   "id": "2c1440fc",
   "metadata": {},
   "outputs": [
    {
     "name": "stdout",
     "output_type": "stream",
     "text": [
      "[1, 2, 3, 4, 5, 6, 7, 8, 3, 2, 3, 4, 5, 5, 6]\n"
     ]
    }
   ],
   "source": [
    "print(mylist)"
   ]
  },
  {
   "cell_type": "code",
   "execution_count": 16,
   "id": "99065eb0",
   "metadata": {},
   "outputs": [
    {
     "name": "stdout",
     "output_type": "stream",
     "text": [
      "[10, 20, 30, 40]\n"
     ]
    }
   ],
   "source": [
    "numbers = [10, 30, 40]\n",
    "\n",
    "numbers.insert(1, 20)\n",
    "\n",
    "print(numbers) "
   ]
  },
  {
   "cell_type": "code",
   "execution_count": 17,
   "id": "10568284",
   "metadata": {},
   "outputs": [],
   "source": [
    "del mylist[1:4]"
   ]
  },
  {
   "cell_type": "code",
   "execution_count": 18,
   "id": "5108111a",
   "metadata": {},
   "outputs": [
    {
     "name": "stdout",
     "output_type": "stream",
     "text": [
      "[1, 5, 6, 7, 8, 3, 2, 3, 4, 5, 5, 6]\n"
     ]
    }
   ],
   "source": [
    "print(mylist)"
   ]
  },
  {
   "cell_type": "code",
   "execution_count": 19,
   "id": "1e60722c",
   "metadata": {},
   "outputs": [],
   "source": [
    "mylist.remove(5)"
   ]
  },
  {
   "cell_type": "code",
   "execution_count": 20,
   "id": "d72cb24b",
   "metadata": {},
   "outputs": [
    {
     "name": "stdout",
     "output_type": "stream",
     "text": [
      "[1, 6, 7, 8, 3, 2, 3, 4, 5, 5, 6]\n"
     ]
    }
   ],
   "source": [
    "print(mylist)"
   ]
  },
  {
   "cell_type": "code",
   "execution_count": 21,
   "id": "bdfd59dd",
   "metadata": {},
   "outputs": [
    {
     "name": "stdout",
     "output_type": "stream",
     "text": [
      "[1, 6, 7, 8, 3, 2, 3, 4, 5, 6]\n"
     ]
    }
   ],
   "source": [
    "mylist.remove(5)\n",
    "print(mylist)"
   ]
  },
  {
   "cell_type": "markdown",
   "id": "19e065d4",
   "metadata": {},
   "source": [
    "## Sets and tuples "
   ]
  },
  {
   "cell_type": "code",
   "execution_count": 22,
   "id": "db843675",
   "metadata": {},
   "outputs": [
    {
     "name": "stdout",
     "output_type": "stream",
     "text": [
      "()\n",
      "(1, 2, 3)\n",
      "(1, 'Hello', 3.4)\n",
      "('mouse', [8, 4, 6], (1, 2, 3))\n"
     ]
    }
   ],
   "source": [
    "\n",
    "my_tuple = ()\n",
    "print(my_tuple)\n",
    "\n",
    "my_tuple = (1, 2, 3)\n",
    "print(my_tuple)\n",
    "\n",
    "my_tuple = (1, \"Hello\", 3.4)\n",
    "print(my_tuple)\n",
    "\n",
    "my_tuple = (\"mouse\", [8, 4, 6], (1, 2, 3))\n",
    "print(my_tuple)"
   ]
  },
  {
   "cell_type": "code",
   "execution_count": 23,
   "id": "17d78e6c",
   "metadata": {},
   "outputs": [
    {
     "data": {
      "text/plain": [
       "((1, 2, 3), [8, 4, 6], 'mouse')"
      ]
     },
     "execution_count": 23,
     "metadata": {},
     "output_type": "execute_result"
    }
   ],
   "source": [
    "my_tuple[::-1]"
   ]
  },
  {
   "cell_type": "code",
   "execution_count": 24,
   "id": "cc1866b4",
   "metadata": {},
   "outputs": [
    {
     "data": {
      "text/plain": [
       "0"
      ]
     },
     "execution_count": 24,
     "metadata": {},
     "output_type": "execute_result"
    }
   ],
   "source": [
    "my_tuple.index(\"mouse\")"
   ]
  },
  {
   "cell_type": "code",
   "execution_count": 25,
   "id": "54dd2948",
   "metadata": {},
   "outputs": [
    {
     "data": {
      "text/plain": [
       "[1, 6, 7, 8, 3, 2, 3, 4, 5, 6]"
      ]
     },
     "execution_count": 25,
     "metadata": {},
     "output_type": "execute_result"
    }
   ],
   "source": [
    "mylist"
   ]
  },
  {
   "cell_type": "code",
   "execution_count": 26,
   "id": "66de93db",
   "metadata": {},
   "outputs": [
    {
     "data": {
      "text/plain": [
       "{1, 2, 3, 4, 5, 6, 7, 8}"
      ]
     },
     "execution_count": 26,
     "metadata": {},
     "output_type": "execute_result"
    }
   ],
   "source": [
    "set(mylist)"
   ]
  },
  {
   "cell_type": "markdown",
   "id": "c5f05d0a",
   "metadata": {},
   "source": [
    "Here we can see the are no similar element involved in the new set.sets prevents the recursive element on the list"
   ]
  },
  {
   "cell_type": "code",
   "execution_count": 27,
   "id": "36c1f1bd",
   "metadata": {},
   "outputs": [
    {
     "name": "stdout",
     "output_type": "stream",
     "text": [
      "Student ID: {112, 114, 115, 116, 118}\n",
      "Vowel Letters: {'a', 'u', 'e', 'i', 'o'}\n",
      "Set of mixed data types: {'Hello', 101, 'Bye', -2}\n"
     ]
    }
   ],
   "source": [
    "student_id = {112, 114, 116, 118, 115}\n",
    "print('Student ID:', student_id)\n",
    "\n",
    "vowel_letters = {'a', 'e', 'i', 'o', 'u'}\n",
    "print('Vowel Letters:', vowel_letters)\n",
    "\n",
    "mixed_set = {'Hello', 101, -2, 'Bye'}\n",
    "print('Set of mixed data types:', mixed_set)"
   ]
  },
  {
   "cell_type": "markdown",
   "id": "68dad4a1",
   "metadata": {},
   "source": [
    "### To initialize a new set we do "
   ]
  },
  {
   "cell_type": "code",
   "execution_count": 28,
   "id": "bd8e8583",
   "metadata": {},
   "outputs": [],
   "source": [
    "newSet = set()"
   ]
  },
  {
   "cell_type": "code",
   "execution_count": 29,
   "id": "5378dfcd",
   "metadata": {},
   "outputs": [
    {
     "data": {
      "text/plain": [
       "set"
      ]
     },
     "execution_count": 29,
     "metadata": {},
     "output_type": "execute_result"
    }
   ],
   "source": [
    "type(newSet)"
   ]
  },
  {
   "cell_type": "code",
   "execution_count": 30,
   "id": "8e14764d",
   "metadata": {},
   "outputs": [
    {
     "name": "stdout",
     "output_type": "stream",
     "text": [
      "{'google', 'Lacoste', 'Ralph Lauren', 'apple'}\n"
     ]
    }
   ],
   "source": [
    "companies = {'Lacoste', 'Ralph Lauren'}\n",
    "tech_companies = ['apple', 'google', 'apple']\n",
    "\n",
    "companies.update(tech_companies)\n",
    "\n",
    "print(companies)\n",
    "## here we are updating the pyhton set with the new techcompanies"
   ]
  },
  {
   "cell_type": "markdown",
   "id": "474251f6",
   "metadata": {},
   "source": [
    "### Remove an element form the set "
   ]
  },
  {
   "cell_type": "code",
   "execution_count": 31,
   "id": "1c18b88f",
   "metadata": {},
   "outputs": [],
   "source": [
    "## we use discard keyword to remove element from the list "
   ]
  },
  {
   "cell_type": "code",
   "execution_count": 32,
   "id": "a00de9f8",
   "metadata": {},
   "outputs": [],
   "source": [
    "companies.discard('apple')"
   ]
  },
  {
   "cell_type": "code",
   "execution_count": 33,
   "id": "d8f793ec",
   "metadata": {},
   "outputs": [
    {
     "name": "stdout",
     "output_type": "stream",
     "text": [
      "{'google', 'Lacoste', 'Ralph Lauren'}\n"
     ]
    }
   ],
   "source": [
    "print(companies)"
   ]
  },
  {
   "cell_type": "code",
   "execution_count": 34,
   "id": "53ebaf73",
   "metadata": {},
   "outputs": [],
   "source": [
    "enumerate_prime = enumerate(companies)"
   ]
  },
  {
   "cell_type": "code",
   "execution_count": 35,
   "id": "fffb59a3",
   "metadata": {},
   "outputs": [
    {
     "name": "stdout",
     "output_type": "stream",
     "text": [
      "[(0, 'google'), (1, 'Lacoste'), (2, 'Ralph Lauren')]\n"
     ]
    }
   ],
   "source": [
    "print(list(enumerate_prime))"
   ]
  },
  {
   "cell_type": "code",
   "execution_count": 36,
   "id": "5df3291d",
   "metadata": {},
   "outputs": [
    {
     "name": "stdout",
     "output_type": "stream",
     "text": [
      "google\n"
     ]
    }
   ],
   "source": [
    "print(max(companies))"
   ]
  },
  {
   "cell_type": "markdown",
   "id": "d35dac75",
   "metadata": {},
   "source": [
    "## Booleans and Operators"
   ]
  },
  {
   "cell_type": "code",
   "execution_count": 37,
   "id": "03cf19e2",
   "metadata": {},
   "outputs": [
    {
     "name": "stdout",
     "output_type": "stream",
     "text": [
      "False\n",
      "True\n"
     ]
    }
   ],
   "source": [
    "x = 5\n",
    "y = 10\n",
    "print(x == y)  \n",
    "print(x < y)   \n"
   ]
  },
  {
   "cell_type": "code",
   "execution_count": 38,
   "id": "89e06411",
   "metadata": {},
   "outputs": [
    {
     "name": "stdout",
     "output_type": "stream",
     "text": [
      "False\n",
      "True\n",
      "False\n"
     ]
    }
   ],
   "source": [
    "x = True\n",
    "y = False\n",
    "print(x and y)  \n",
    "print(x or y)   \n",
    "print(not x)    \n"
   ]
  },
  {
   "cell_type": "code",
   "execution_count": 39,
   "id": "34d366c5",
   "metadata": {},
   "outputs": [
    {
     "name": "stdout",
     "output_type": "stream",
     "text": [
      "True\n",
      "True\n"
     ]
    }
   ],
   "source": [
    "my_list = [1, 2, 3, 4, 5]\n",
    "print(3 in my_list)      \n",
    "print(6 not in my_list)  \n"
   ]
  },
  {
   "cell_type": "code",
   "execution_count": 40,
   "id": "33654a1f",
   "metadata": {},
   "outputs": [],
   "source": [
    "## we can also use such booleans in the loop"
   ]
  },
  {
   "cell_type": "code",
   "execution_count": 2,
   "id": "3a820ae4",
   "metadata": {},
   "outputs": [
    {
     "name": "stdout",
     "output_type": "stream",
     "text": [
      "hello\n",
      "hello\n",
      "hello\n",
      "hello\n"
     ]
    },
    {
     "ename": "KeyboardInterrupt",
     "evalue": "",
     "output_type": "error",
     "traceback": [
      "\u001b[0;31m---------------------------------------------------------------------------\u001b[0m",
      "\u001b[0;31mKeyboardInterrupt\u001b[0m                         Traceback (most recent call last)",
      "Cell \u001b[0;32mIn[2], line 5\u001b[0m\n\u001b[1;32m      3\u001b[0m \u001b[38;5;28;01mwhile\u001b[39;00m \u001b[38;5;28;01mTrue\u001b[39;00m:\n\u001b[1;32m      4\u001b[0m     count \u001b[38;5;241m+\u001b[39m\u001b[38;5;241m=\u001b[39m \u001b[38;5;241m1\u001b[39m\n\u001b[0;32m----> 5\u001b[0m     \u001b[38;5;28;01mif\u001b[39;00m count \u001b[38;5;241m<\u001b[39m \u001b[38;5;241m5\u001b[39m:\n\u001b[1;32m      6\u001b[0m         \u001b[38;5;28mprint\u001b[39m(\u001b[38;5;124m\"\u001b[39m\u001b[38;5;124mhello\u001b[39m\u001b[38;5;124m\"\u001b[39m)\n\u001b[1;32m      7\u001b[0m     \u001b[38;5;28;01mif\u001b[39;00m count \u001b[38;5;241m==\u001b[39m \u001b[38;5;241m5\u001b[39m:\n",
      "\u001b[0;31mKeyboardInterrupt\u001b[0m: "
     ]
    }
   ],
   "source": [
    "import sys\n",
    "count = 0\n",
    "while True:\n",
    "    count += 1\n",
    "    if count < 5:\n",
    "        print(\"hello\")\n",
    "    if count == 5:\n",
    "        exit(0)\n",
    "        \n",
    "    "
   ]
  },
  {
   "cell_type": "markdown",
   "id": "ffc5778d",
   "metadata": {},
   "source": [
    "### If else statements"
   ]
  },
  {
   "cell_type": "code",
   "execution_count": 2,
   "id": "d04009e4",
   "metadata": {},
   "outputs": [
    {
     "name": "stdout",
     "output_type": "stream",
     "text": [
      "Enter a number: 34\n"
     ]
    }
   ],
   "source": [
    "# Example program to determine if a number is positive, negative, or zero\n",
    "\n",
    "number = int(input(\"Enter a number: \"))"
   ]
  },
  {
   "cell_type": "code",
   "execution_count": 3,
   "id": "322c393f",
   "metadata": {},
   "outputs": [
    {
     "name": "stdout",
     "output_type": "stream",
     "text": [
      "The number is positive.\n"
     ]
    }
   ],
   "source": [
    "if number > 0:\n",
    "    print(\"The number is positive.\")\n",
    "elif number < 0:\n",
    "    print(\"The number is negative.\")\n",
    "else:\n",
    "    print(\"The number is zero.\")"
   ]
  },
  {
   "cell_type": "markdown",
   "id": "bbde1406",
   "metadata": {},
   "source": [
    "## Loops in python"
   ]
  },
  {
   "cell_type": "code",
   "execution_count": 1,
   "id": "0a7a2756",
   "metadata": {},
   "outputs": [
    {
     "name": "stdout",
     "output_type": "stream",
     "text": [
      "For loop:\n",
      "apple\n",
      "banana\n",
      "cherry\n"
     ]
    }
   ],
   "source": [
    "# 1. For loop\n",
    "print(\"For loop:\")\n",
    "fruits = [\"apple\", \"banana\", \"cherry\"]\n",
    "for fruit in fruits:\n",
    "    print(fruit)\n"
   ]
  },
  {
   "cell_type": "code",
   "execution_count": 1,
   "id": "75c1616e",
   "metadata": {},
   "outputs": [
    {
     "name": "stdout",
     "output_type": "stream",
     "text": [
      "\n",
      "While loop:\n",
      "0\n",
      "1\n",
      "2\n",
      "3\n",
      "4\n"
     ]
    }
   ],
   "source": [
    "# 2. While loop\n",
    "print(\"\\nWhile loop:\")\n",
    "count = 0\n",
    "while count < 5:\n",
    "    print(count)\n",
    "    count += 1"
   ]
  },
  {
   "cell_type": "code",
   "execution_count": 2,
   "id": "7fb91b1f",
   "metadata": {},
   "outputs": [
    {
     "name": "stdout",
     "output_type": "stream",
     "text": [
      "\n",
      "Nested loops:\n",
      "1 1\n",
      "1 2\n",
      "1 3\n",
      "2 1\n",
      "2 2\n",
      "2 3\n",
      "3 1\n",
      "3 2\n",
      "3 3\n"
     ]
    }
   ],
   "source": [
    "# 3. Nested loops\n",
    "print(\"\\nNested loops:\")\n",
    "for i in range(1, 4):\n",
    "    for j in range(1, 4):\n",
    "        print(i, j)\n"
   ]
  },
  {
   "cell_type": "code",
   "execution_count": null,
   "id": "cd76f747",
   "metadata": {},
   "outputs": [],
   "source": []
  }
 ],
 "metadata": {
  "kernelspec": {
   "display_name": "Python 3 (ipykernel)",
   "language": "python",
   "name": "python3"
  },
  "language_info": {
   "codemirror_mode": {
    "name": "ipython",
    "version": 3
   },
   "file_extension": ".py",
   "mimetype": "text/x-python",
   "name": "python",
   "nbconvert_exporter": "python",
   "pygments_lexer": "ipython3",
   "version": "3.10.6"
  }
 },
 "nbformat": 4,
 "nbformat_minor": 5
}
