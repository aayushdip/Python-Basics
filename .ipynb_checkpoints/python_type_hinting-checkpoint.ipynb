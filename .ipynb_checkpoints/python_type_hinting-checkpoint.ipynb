{
 "cells": [
  {
   "cell_type": "markdown",
   "id": "f20e9a6e",
   "metadata": {},
   "source": [
    "## Python typehinting\n"
   ]
  },
  {
   "cell_type": "code",
   "execution_count": 1,
   "id": "1f60c676",
   "metadata": {},
   "outputs": [],
   "source": [
    "## here we are going to ise python typehinting to calculate the sum of numbers"
   ]
  },
  {
   "cell_type": "code",
   "execution_count": 2,
   "id": "b351e4e3",
   "metadata": {},
   "outputs": [],
   "source": [
    "from typing import Union"
   ]
  },
  {
   "cell_type": "code",
   "execution_count": 3,
   "id": "ca0771de",
   "metadata": {},
   "outputs": [],
   "source": [
    "def calc_sum(x: Union[int,float], \n",
    "             y: Union[int, float],\n",
    "             z: Union[int,float]):\n",
    "    return x+y+z\n",
    "        "
   ]
  },
  {
   "cell_type": "code",
   "execution_count": 4,
   "id": "0e162731",
   "metadata": {},
   "outputs": [
    {
     "data": {
      "text/plain": [
       "10.7"
      ]
     },
     "execution_count": 4,
     "metadata": {},
     "output_type": "execute_result"
    }
   ],
   "source": [
    "calc_sum(2,3,5.7)"
   ]
  },
  {
   "cell_type": "markdown",
   "id": "ccf96fb3",
   "metadata": {},
   "source": [
    "## Specifying python return type  "
   ]
  },
  {
   "cell_type": "code",
   "execution_count": 5,
   "id": "a4eb75f1",
   "metadata": {},
   "outputs": [],
   "source": [
    "## we can specify the above program to specify the return type"
   ]
  },
  {
   "cell_type": "code",
   "execution_count": 6,
   "id": "6a236633",
   "metadata": {},
   "outputs": [],
   "source": [
    "def calc_sum(x: Union[int,float], \n",
    "             y: Union[int, float],\n",
    "             z: Union[int,float])-> Union[int,float]:\n",
    "    return x+y+z"
   ]
  },
  {
   "cell_type": "code",
   "execution_count": 7,
   "id": "412d04d1",
   "metadata": {},
   "outputs": [
    {
     "data": {
      "text/plain": [
       "10.7"
      ]
     },
     "execution_count": 7,
     "metadata": {},
     "output_type": "execute_result"
    }
   ],
   "source": [
    "calc_sum(2,3,5)"
   ]
  },
  {
   "cell_type": "code",
   "execution_count": null,
   "id": "caebd349",
   "metadata": {},
   "outputs": [],
   "source": []
  }
 ],
 "metadata": {
  "kernelspec": {
   "display_name": "Python 3 (ipykernel)",
   "language": "python",
   "name": "python3"
  },
  "language_info": {
   "codemirror_mode": {
    "name": "ipython",
    "version": 3
   },
   "file_extension": ".py",
   "mimetype": "text/x-python",
   "name": "python",
   "nbconvert_exporter": "python",
   "pygments_lexer": "ipython3",
   "version": "3.10.6"
  }
 },
 "nbformat": 4,
 "nbformat_minor": 5
}
