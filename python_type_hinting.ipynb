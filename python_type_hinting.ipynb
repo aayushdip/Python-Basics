{
 "cells": [
  {
   "cell_type": "markdown",
   "id": "01ce6cf2",
   "metadata": {},
   "source": [
    "## Python typehinting\n"
   ]
  },
  {
   "cell_type": "code",
   "execution_count": 1,
   "id": "94db53bb",
   "metadata": {},
   "outputs": [],
   "source": [
    "## here we are going to ise python typehinting to calculate the sum of numbers"
   ]
  },
  {
   "cell_type": "code",
   "execution_count": 2,
   "id": "b760e3af",
   "metadata": {},
   "outputs": [],
   "source": [
    "from typing import Union"
   ]
  },
  {
   "cell_type": "code",
   "execution_count": 3,
   "id": "6c19bdde",
   "metadata": {},
   "outputs": [],
   "source": [
    "def calc_sum(x: Union[int,float], \n",
    "             y: Union[int, float],\n",
    "             z: Union[int,float]):\n",
    "    return x+y+z\n",
    "        "
   ]
  },
  {
   "cell_type": "code",
   "execution_count": 4,
   "id": "d6ce9f34",
   "metadata": {},
   "outputs": [
    {
     "data": {
      "text/plain": [
       "10.7"
      ]
     },
     "execution_count": 4,
     "metadata": {},
     "output_type": "execute_result"
    }
   ],
   "source": [
    "calc_sum(2,3,5.7)"
   ]
  },
  {
   "cell_type": "markdown",
   "id": "3af0ad99",
   "metadata": {},
   "source": [
    "## Specifying python return type  "
   ]
  },
  {
   "cell_type": "code",
   "execution_count": 5,
   "id": "1fc64443",
   "metadata": {},
   "outputs": [],
   "source": [
    "## we can specify the above program to specify the return type"
   ]
  },
  {
   "cell_type": "code",
   "execution_count": 6,
   "id": "bc7dc1b2",
   "metadata": {},
   "outputs": [],
   "source": [
    "def calc_sum(x: Union[int,float], \n",
    "             y: Union[int, float],\n",
    "             z: Union[int,float])-> Union[int,float]:\n",
    "    return x+y+z"
   ]
  },
  {
   "cell_type": "code",
   "execution_count": 8,
   "id": "827d44f2",
   "metadata": {},
   "outputs": [
    {
     "data": {
      "text/plain": [
       "10"
      ]
     },
     "execution_count": 8,
     "metadata": {},
     "output_type": "execute_result"
    }
   ],
   "source": [
    "calc_sum(2,3,5)"
   ]
  },
  {
   "cell_type": "code",
   "execution_count": 3,
   "id": "f38d7e5d",
   "metadata": {},
   "outputs": [],
   "source": [
    "item_data = [\n",
    "    {\n",
    "        \"name\": \"Item 1\",\n",
    "        \"description\": \"This is item 1\",\n",
    "        \"price\": 19.99,\n",
    "        \"tax\": 2.0,\n",
    "        \"tags\": {\"tag1\", \"tag2\"},\n",
    "        \"status\": 'RECEIVED'\n",
    "    },\n",
    "    {\n",
    "        \"name\": \"Item 2\",\n",
    "        \"description\": \"This is item 2\",\n",
    "        \"price\": 12.5,\n",
    "        \"tags\": {\"tag3\", \"tag4\"},\n",
    "        \"status\": 'CREATED'\n",
    "    },\n",
    "    {\n",
    "        \"name\": \"Item 3\",\n",
    "        \"price\": 9.99,\n",
    "        \"tags\": {\"tag1\"},\n",
    "        \"status\": 'CREATED'\n",
    "    },\n",
    "    {\n",
    "        \"name\": \"Item 4\",\n",
    "        \"description\": \"This is item 4\",\n",
    "        \"price\": 7.25,\n",
    "        \"tags\": {\"tag2\", \"tag4\"},\n",
    "        \"status\": 'RECEIVED'\n",
    "    },\n",
    "    {\n",
    "        \"name\": \"Item 5\",\n",
    "        \"price\": 15.0,\n",
    "        \"status\": 'CREATE_ERROR'\n",
    "    }\n",
    "]\n",
    "filtered_data = [filter_data for filter_data in item_data if filter_data['status'] == 'CREATED']"
   ]
  },
  {
   "cell_type": "code",
   "execution_count": 4,
   "id": "c0a87f2d",
   "metadata": {},
   "outputs": [
    {
     "data": {
      "text/plain": [
       "[{'name': 'Item 2',\n",
       "  'description': 'This is item 2',\n",
       "  'price': 12.5,\n",
       "  'tags': {'tag3', 'tag4'},\n",
       "  'status': 'CREATED'},\n",
       " {'name': 'Item 3', 'price': 9.99, 'tags': {'tag1'}, 'status': 'CREATED'}]"
      ]
     },
     "execution_count": 4,
     "metadata": {},
     "output_type": "execute_result"
    }
   ],
   "source": [
    "filtered_data"
   ]
  },
  {
   "cell_type": "code",
   "execution_count": null,
   "id": "555f27bd",
   "metadata": {},
   "outputs": [],
   "source": []
  }
 ],
 "metadata": {
  "kernelspec": {
   "display_name": "Python 3 (ipykernel)",
   "language": "python",
   "name": "python3"
  },
  "language_info": {
   "codemirror_mode": {
    "name": "ipython",
    "version": 3
   },
   "file_extension": ".py",
   "mimetype": "text/x-python",
   "name": "python",
   "nbconvert_exporter": "python",
   "pygments_lexer": "ipython3",
   "version": "3.10.6"
  }
 },
 "nbformat": 4,
 "nbformat_minor": 5
}
