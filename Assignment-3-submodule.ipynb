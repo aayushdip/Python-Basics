{
 "cells": [
  {
   "cell_type": "markdown",
   "id": "01860d9d",
   "metadata": {},
   "source": [
    "## Imports in Python "
   ]
  },
  {
   "cell_type": "code",
   "execution_count": 4,
   "id": "743d1ad1",
   "metadata": {},
   "outputs": [],
   "source": [
    "## I will import time and write a program to calculate the execition time "
   ]
  },
  {
   "cell_type": "code",
   "execution_count": 6,
   "id": "9dd978b9",
   "metadata": {},
   "outputs": [
    {
     "name": "stdout",
     "output_type": "stream",
     "text": [
      "Enter a number: 5\n",
      "The sum of numbers from 1 to 5 is: 15\n",
      "Execution time: 0.00014495849609375 seconds\n"
     ]
    }
   ],
   "source": [
    "import time\n",
    "\n",
    "def calculate_sum(n):\n",
    "    sum = 0\n",
    "    for i in range(1, n+1):\n",
    "        sum += i\n",
    "    return sum\n",
    "\n",
    "num = int(input(\"Enter a number: \"))\n",
    "\n",
    "start_time = time.time()\n",
    "result = calculate_sum(num)\n",
    "end_time = time.time()\n",
    "execution_time = end_time - start_time\n",
    "print(f\"The sum of numbers from 1 to {num} is: {result}\")\n",
    "print(f\"Execution time: {execution_time} seconds\")\n"
   ]
  },
  {
   "cell_type": "code",
   "execution_count": 7,
   "id": "76e499e6",
   "metadata": {},
   "outputs": [],
   "source": [
    "## To have the better understanding of the inheritance we use event management program"
   ]
  },
  {
   "cell_type": "code",
   "execution_count": 12,
   "id": "48975a0c",
   "metadata": {},
   "outputs": [
    {
     "name": "stdout",
     "output_type": "stream",
     "text": [
      "Event: Dialaxy\n",
      "Speaker: Samiksha Yogi\n",
      "-----------------------\n",
      "Event: Carpediem\n",
      "Facilitator: Aayush Dip Giri\n"
     ]
    }
   ],
   "source": [
    "class Event:\n",
    "    def __init__(self, name):\n",
    "        self.name = name\n",
    "\n",
    "    def display_info(self):\n",
    "        print(\"Event:\", self.name)\n",
    "\n",
    "\n",
    "class Conference(Event):\n",
    "    def __init__(self, name, speaker):\n",
    "        super().__init__(name)\n",
    "        self.speaker = speaker\n",
    "\n",
    "    def display_info(self):\n",
    "        super().display_info()\n",
    "        print(\"Speaker:\", self.speaker)\n",
    "\n",
    "\n",
    "class Workshop(Event):\n",
    "    def __init__(self, name, facilitator):\n",
    "        super().__init__(name)\n",
    "        self.facilitator = facilitator\n",
    "\n",
    "    def display_info(self):\n",
    "        super().display_info()\n",
    "        print(\"Facilitator:\", self.facilitator)\n",
    "\n",
    "\n",
    "event1 = Conference(\"Dialaxy\", \"Samiksha Yogi\")\n",
    "event2 = Workshop(\"Carpediem\", \"Aayush Dip Giri\")\n",
    "\n",
    "event1.display_info()\n",
    "print(\"-----------------------\")\n",
    "event2.display_info()\n"
   ]
  },
  {
   "cell_type": "code",
   "execution_count": 13,
   "id": "a1f4c24c",
   "metadata": {},
   "outputs": [],
   "source": [
    "## we are going to write a basic program to have the clear understanding of abc"
   ]
  },
  {
   "cell_type": "code",
   "execution_count": 15,
   "id": "06db9bf7",
   "metadata": {},
   "outputs": [
    {
     "name": "stdout",
     "output_type": "stream",
     "text": [
      "Area: 15\n",
      "Perimeter: 16\n"
     ]
    }
   ],
   "source": [
    "from abc import ABC, abstractmethod\n",
    "\n",
    "class Shape(ABC):\n",
    "\n",
    "    @abstractmethod\n",
    "    def area(self):\n",
    "        pass\n",
    "    @abstractmethod\n",
    "    def perimeter(self):\n",
    "        pass\n",
    "\n",
    "class Rectangle(Shape):\n",
    "\n",
    "    def __init__(self, width, height):\n",
    "        self.width = width\n",
    "        self.height = height\n",
    "\n",
    "    def area(self):\n",
    "        return self.width * self.height\n",
    "\n",
    "    def perimeter(self):\n",
    "        return 2 * (self.width + self.height)\n",
    "\n",
    "\n",
    "rectangle = Rectangle(5, 3)\n",
    "\n",
    "print(\"Area:\", rectangle.area())\n",
    "print(\"Perimeter:\", rectangle.perimeter())\n"
   ]
  },
  {
   "cell_type": "code",
   "execution_count": 16,
   "id": "fa491a56",
   "metadata": {},
   "outputs": [
    {
     "ename": "TypeError",
     "evalue": "Can't instantiate abstract class Rectangle with abstract method perimeter",
     "output_type": "error",
     "traceback": [
      "\u001b[0;31m---------------------------------------------------------------------------\u001b[0m",
      "\u001b[0;31mTypeError\u001b[0m                                 Traceback (most recent call last)",
      "Cell \u001b[0;32mIn[16], line 23\u001b[0m\n\u001b[1;32m     18\u001b[0m     \u001b[38;5;28;01mdef\u001b[39;00m \u001b[38;5;21marea\u001b[39m(\u001b[38;5;28mself\u001b[39m):\n\u001b[1;32m     19\u001b[0m         \u001b[38;5;28;01mreturn\u001b[39;00m \u001b[38;5;28mself\u001b[39m\u001b[38;5;241m.\u001b[39mwidth \u001b[38;5;241m*\u001b[39m \u001b[38;5;28mself\u001b[39m\u001b[38;5;241m.\u001b[39mheight\n\u001b[0;32m---> 23\u001b[0m rectangle \u001b[38;5;241m=\u001b[39m \u001b[43mRectangle\u001b[49m\u001b[43m(\u001b[49m\u001b[38;5;241;43m5\u001b[39;49m\u001b[43m,\u001b[49m\u001b[43m \u001b[49m\u001b[38;5;241;43m3\u001b[39;49m\u001b[43m)\u001b[49m\n\u001b[1;32m     25\u001b[0m \u001b[38;5;28mprint\u001b[39m(\u001b[38;5;124m\"\u001b[39m\u001b[38;5;124mArea:\u001b[39m\u001b[38;5;124m\"\u001b[39m, rectangle\u001b[38;5;241m.\u001b[39marea())\n\u001b[1;32m     26\u001b[0m \u001b[38;5;28mprint\u001b[39m(\u001b[38;5;124m\"\u001b[39m\u001b[38;5;124mPerimeter:\u001b[39m\u001b[38;5;124m\"\u001b[39m, rectangle\u001b[38;5;241m.\u001b[39mperimeter())\n",
      "\u001b[0;31mTypeError\u001b[0m: Can't instantiate abstract class Rectangle with abstract method perimeter"
     ]
    }
   ],
   "source": [
    "from abc import ABC, abstractmethod\n",
    "\n",
    "class Shape(ABC):\n",
    "\n",
    "    @abstractmethod\n",
    "    def area(self):\n",
    "        pass\n",
    "    @abstractmethod\n",
    "    def perimeter(self):\n",
    "        pass\n",
    "\n",
    "class Rectangle(Shape):\n",
    "\n",
    "    def __init__(self, width, height):\n",
    "        self.width = width\n",
    "        self.height = height\n",
    "\n",
    "    def area(self):\n",
    "        return self.width * self.height\n",
    "\n",
    "\n",
    "\n",
    "rectangle = Rectangle(5, 3)\n",
    "\n",
    "print(\"Area:\", rectangle.area())\n",
    "print(\"Perimeter:\", rectangle.perimeter())"
   ]
  },
  {
   "cell_type": "code",
   "execution_count": 17,
   "id": "2aedd9ae",
   "metadata": {},
   "outputs": [],
   "source": [
    "## this error is generated because the function perimeter is missing in the child class"
   ]
  },
  {
   "cell_type": "code",
   "execution_count": null,
   "id": "ac5fac0b",
   "metadata": {},
   "outputs": [],
   "source": []
  }
 ],
 "metadata": {
  "kernelspec": {
   "display_name": "Python 3 (ipykernel)",
   "language": "python",
   "name": "python3"
  },
  "language_info": {
   "codemirror_mode": {
    "name": "ipython",
    "version": 3
   },
   "file_extension": ".py",
   "mimetype": "text/x-python",
   "name": "python",
   "nbconvert_exporter": "python",
   "pygments_lexer": "ipython3",
   "version": "3.10.6"
  }
 },
 "nbformat": 4,
 "nbformat_minor": 5
}
