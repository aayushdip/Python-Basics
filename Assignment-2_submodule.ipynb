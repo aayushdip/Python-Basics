{
 "cells": [
  {
   "cell_type": "markdown",
   "id": "b1fd2528",
   "metadata": {},
   "source": [
    "## Dictionaries in Python "
   ]
  },
  {
   "cell_type": "code",
   "execution_count": 1,
   "id": "d2c5b34e",
   "metadata": {},
   "outputs": [],
   "source": [
    "country_captials = {\n",
    "    \"Nepal\" : \"kathmandu\",\n",
    "    \"India\" : \"Delhi\",\n",
    "    \"USA\" : \"DC\"\n",
    "}"
   ]
  },
  {
   "cell_type": "code",
   "execution_count": 2,
   "id": "77f8a6ca",
   "metadata": {},
   "outputs": [
    {
     "data": {
      "text/plain": [
       "'kathmandu'"
      ]
     },
     "execution_count": 2,
     "metadata": {},
     "output_type": "execute_result"
    }
   ],
   "source": [
    "country_captials[\"Nepal\"]"
   ]
  },
  {
   "cell_type": "code",
   "execution_count": 6,
   "id": "cd3520e1",
   "metadata": {},
   "outputs": [
    {
     "name": "stdout",
     "output_type": "stream",
     "text": [
      "Nepal kathmandu\n",
      "India Delhi\n",
      "USA DC\n"
     ]
    }
   ],
   "source": [
    "for key, values in country_captials.items():\n",
    "    print(key,values)"
   ]
  },
  {
   "cell_type": "code",
   "execution_count": 7,
   "id": "dace4d9e",
   "metadata": {},
   "outputs": [],
   "source": [
    "##We can use the function related to the the set and list"
   ]
  },
  {
   "cell_type": "code",
   "execution_count": 10,
   "id": "89cc10c1",
   "metadata": {},
   "outputs": [],
   "source": [
    "del country_captials[\"Nepal\"]"
   ]
  },
  {
   "cell_type": "code",
   "execution_count": 11,
   "id": "77c0294f",
   "metadata": {},
   "outputs": [
    {
     "name": "stdout",
     "output_type": "stream",
     "text": [
      "{'India': 'Delhi', 'USA': 'DC'}\n"
     ]
    }
   ],
   "source": [
    "print(country_captials)"
   ]
  },
  {
   "cell_type": "code",
   "execution_count": 12,
   "id": "b0171786",
   "metadata": {},
   "outputs": [],
   "source": [
    "##Now we are goinf to study about the nested dictonary "
   ]
  },
  {
   "cell_type": "code",
   "execution_count": 14,
   "id": "c05ffefd",
   "metadata": {},
   "outputs": [
    {
     "name": "stdout",
     "output_type": "stream",
     "text": [
      "Name: Aayush Dip Giri\n",
      "Age: 20\n",
      "Math Grade: 85\n",
      "Science Grade: 92\n",
      "History Grade: 78\n"
     ]
    }
   ],
   "source": [
    "\n",
    "student = {\n",
    "    \"name\": \"Aayush Dip Giri\",\n",
    "    \"age\": 20,\n",
    "    \"grades\": {\n",
    "        \"math\": 85,\n",
    "        \"science\": 92,\n",
    "        \"history\": 78\n",
    "    }\n",
    "}\n",
    "\n",
    "print(\"Name:\", student[\"name\"])\n",
    "print(\"Age:\", student[\"age\"])\n",
    "print(\"Math Grade:\", student[\"grades\"][\"math\"])\n",
    "print(\"Science Grade:\", student[\"grades\"][\"science\"])\n",
    "print(\"History Grade:\", student[\"grades\"][\"history\"])\n"
   ]
  },
  {
   "cell_type": "code",
   "execution_count": 15,
   "id": "7f689258",
   "metadata": {},
   "outputs": [],
   "source": [
    "country_captials = {\n",
    "    \"Nepal\" : \"kathmandu\",\n",
    "    \"India\" : \"Delhi\",\n",
    "    \"USA\" : \"DC\"\n",
    "}"
   ]
  },
  {
   "cell_type": "code",
   "execution_count": 16,
   "id": "dbf2e361",
   "metadata": {},
   "outputs": [],
   "source": [
    "## we can perform comprehension of dictionary to change the captioal city names to the upper case"
   ]
  },
  {
   "cell_type": "code",
   "execution_count": 20,
   "id": "bdf89bfd",
   "metadata": {},
   "outputs": [],
   "source": [
    "Upper_country_captials = { key:values.upper() for key,values in country_captials.items()}"
   ]
  },
  {
   "cell_type": "code",
   "execution_count": 22,
   "id": "49d02424",
   "metadata": {},
   "outputs": [
    {
     "data": {
      "text/plain": [
       "{'Nepal': 'KATHMANDU', 'India': 'DELHI', 'USA': 'DC'}"
      ]
     },
     "execution_count": 22,
     "metadata": {},
     "output_type": "execute_result"
    }
   ],
   "source": [
    "Upper_country_captials"
   ]
  },
  {
   "cell_type": "code",
   "execution_count": 23,
   "id": "ccc9ca14",
   "metadata": {},
   "outputs": [],
   "source": [
    "## Here we can see all the country captials to the uppercase"
   ]
  },
  {
   "cell_type": "code",
   "execution_count": 24,
   "id": "dabdf697",
   "metadata": {},
   "outputs": [],
   "source": [
    "## If we want to access individual element to represent different value we can do"
   ]
  },
  {
   "cell_type": "code",
   "execution_count": 25,
   "id": "8d22ad38",
   "metadata": {},
   "outputs": [],
   "source": [
    "country_captials[\"Nepal\"] = \"Kathmandu ho haii\""
   ]
  },
  {
   "cell_type": "code",
   "execution_count": 26,
   "id": "7f401d0b",
   "metadata": {},
   "outputs": [
    {
     "name": "stdout",
     "output_type": "stream",
     "text": [
      "{'Nepal': 'Kathmandu ho haii', 'India': 'Delhi', 'USA': 'DC'}\n"
     ]
    }
   ],
   "source": [
    "print(country_captials)"
   ]
  },
  {
   "cell_type": "markdown",
   "id": "fa98fb7d",
   "metadata": {},
   "source": [
    "## Functions in python"
   ]
  },
  {
   "cell_type": "markdown",
   "id": "b5ff925a",
   "metadata": {},
   "source": [
    "#### Functions with parameter"
   ]
  },
  {
   "cell_type": "code",
   "execution_count": 29,
   "id": "8bfd9d74",
   "metadata": {},
   "outputs": [
    {
     "name": "stdout",
     "output_type": "stream",
     "text": [
      "The square of 3 is 9\n"
     ]
    }
   ],
   "source": [
    "def square(value):\n",
    "    return value ** 2\n",
    "print(\"The square of 3 is {}\".format(square(3)))"
   ]
  },
  {
   "cell_type": "code",
   "execution_count": 31,
   "id": "f39c4d79",
   "metadata": {},
   "outputs": [],
   "source": [
    "## we can also use lambda function to generate the same value "
   ]
  },
  {
   "cell_type": "code",
   "execution_count": 32,
   "id": "3650ed8e",
   "metadata": {},
   "outputs": [],
   "source": [
    "square = lambda x : x**2"
   ]
  },
  {
   "cell_type": "code",
   "execution_count": 33,
   "id": "5c6a26df",
   "metadata": {},
   "outputs": [
    {
     "data": {
      "text/plain": [
       "4"
      ]
     },
     "execution_count": 33,
     "metadata": {},
     "output_type": "execute_result"
    }
   ],
   "source": [
    "square(2)"
   ]
  },
  {
   "cell_type": "code",
   "execution_count": 34,
   "id": "b90049c1",
   "metadata": {},
   "outputs": [],
   "source": [
    "cube = lambda x : square(x)*x"
   ]
  },
  {
   "cell_type": "code",
   "execution_count": 35,
   "id": "6df092c9",
   "metadata": {},
   "outputs": [
    {
     "data": {
      "text/plain": [
       "27"
      ]
     },
     "execution_count": 35,
     "metadata": {},
     "output_type": "execute_result"
    }
   ],
   "source": [
    "cube(3)"
   ]
  },
  {
   "cell_type": "code",
   "execution_count": 36,
   "id": "8d54aa79",
   "metadata": {},
   "outputs": [],
   "source": [
    "## The below program shows an example of recursive function "
   ]
  },
  {
   "cell_type": "code",
   "execution_count": 37,
   "id": "a1a1f87c",
   "metadata": {},
   "outputs": [
    {
     "name": "stdout",
     "output_type": "stream",
     "text": [
      "Enter a non-negative integer: 33\n",
      "The factorial of 33 is 8683317618811886495518194401280000000.\n"
     ]
    }
   ],
   "source": [
    "def factorial(n):\n",
    "    if n == 0 or n == 1:\n",
    "        return 1\n",
    "    else:\n",
    "        return n * factorial(n - 1)\n",
    "\n",
    "num = int(input(\"Enter a non-negative integer: \"))\n",
    "result = factorial(num)\n",
    "print(f\"The factorial of {num} is {result}.\")\n"
   ]
  },
  {
   "cell_type": "code",
   "execution_count": 38,
   "id": "cbccdfa2",
   "metadata": {},
   "outputs": [],
   "source": [
    "## Python local variables"
   ]
  },
  {
   "cell_type": "code",
   "execution_count": 39,
   "id": "3dd2ac4f",
   "metadata": {},
   "outputs": [
    {
     "name": "stdout",
     "output_type": "stream",
     "text": [
      "Local Hello\n"
     ]
    },
    {
     "ename": "NameError",
     "evalue": "name 'message' is not defined",
     "output_type": "error",
     "traceback": [
      "\u001b[0;31m---------------------------------------------------------------------------\u001b[0m",
      "\u001b[0;31mNameError\u001b[0m                                 Traceback (most recent call last)",
      "Cell \u001b[0;32mIn[39], line 12\u001b[0m\n\u001b[1;32m      8\u001b[0m greet()\n\u001b[1;32m     10\u001b[0m \u001b[38;5;66;03m# try to access message variable \u001b[39;00m\n\u001b[1;32m     11\u001b[0m \u001b[38;5;66;03m# outside greet() function\u001b[39;00m\n\u001b[0;32m---> 12\u001b[0m \u001b[38;5;28mprint\u001b[39m(\u001b[43mmessage\u001b[49m)\n",
      "\u001b[0;31mNameError\u001b[0m: name 'message' is not defined"
     ]
    }
   ],
   "source": [
    "def greet():\n",
    "\n",
    "    # local variable\n",
    "    message = 'Hello'\n",
    "    \n",
    "    print('Local', message)\n",
    "\n",
    "greet()\n",
    "\n",
    "# try to access message variable \n",
    "# outside greet() function\n",
    "print(message)"
   ]
  },
  {
   "cell_type": "code",
   "execution_count": 40,
   "id": "9ebcf05d",
   "metadata": {},
   "outputs": [],
   "source": [
    "## the name throws error because we tried to generate the value outside its scope"
   ]
  },
  {
   "cell_type": "code",
   "execution_count": 44,
   "id": "28306a52",
   "metadata": {},
   "outputs": [],
   "source": [
    "## Python global variables"
   ]
  },
  {
   "cell_type": "code",
   "execution_count": 45,
   "id": "7144fa49",
   "metadata": {},
   "outputs": [
    {
     "name": "stdout",
     "output_type": "stream",
     "text": [
      "Local Hello\n",
      "Global Hello\n"
     ]
    }
   ],
   "source": [
    "# declare global variable\n",
    "message = 'Hello'\n",
    "\n",
    "def greet():\n",
    "    # declare local variable\n",
    "    print('Local', message)\n",
    "\n",
    "greet()\n",
    "print('Global', message)"
   ]
  },
  {
   "cell_type": "code",
   "execution_count": 46,
   "id": "7fc577d8",
   "metadata": {},
   "outputs": [],
   "source": [
    "## python non local variables"
   ]
  },
  {
   "cell_type": "code",
   "execution_count": 47,
   "id": "6d9a59bb",
   "metadata": {},
   "outputs": [
    {
     "name": "stdout",
     "output_type": "stream",
     "text": [
      "inner: nonlocal\n",
      "outer: nonlocal\n"
     ]
    }
   ],
   "source": [
    "# outside function \n",
    "def outer():\n",
    "    message = 'local'\n",
    "\n",
    "    # nested function  \n",
    "    def inner():\n",
    "\n",
    "        # declare nonlocal variable\n",
    "        nonlocal message\n",
    "\n",
    "        message = 'nonlocal'\n",
    "        print(\"inner:\", message)\n",
    "\n",
    "    inner()\n",
    "    print(\"outer:\", message)\n",
    "\n",
    "outer()"
   ]
  },
  {
   "cell_type": "code",
   "execution_count": null,
   "id": "00f7fe1c",
   "metadata": {},
   "outputs": [],
   "source": []
  }
 ],
 "metadata": {
  "kernelspec": {
   "display_name": "Python 3 (ipykernel)",
   "language": "python",
   "name": "python3"
  },
  "language_info": {
   "codemirror_mode": {
    "name": "ipython",
    "version": 3
   },
   "file_extension": ".py",
   "mimetype": "text/x-python",
   "name": "python",
   "nbconvert_exporter": "python",
   "pygments_lexer": "ipython3",
   "version": "3.10.6"
  }
 },
 "nbformat": 4,
 "nbformat_minor": 5
}
